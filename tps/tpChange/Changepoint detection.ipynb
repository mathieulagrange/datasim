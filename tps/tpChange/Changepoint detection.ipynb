{
 "cells": [
  {
   "cell_type": "markdown",
   "id": "0554ab75",
   "metadata": {},
   "source": [
    "**Sequential changepoint detection**\n",
    "\n",
    "Instructor: Vincent Lostanlen, LS2N, CNRS\n",
    "\n",
    "Return to: vincent.lostanlen@ls2n.fr\n",
    "\n",
    "\n",
    "Student name(s): `FILL`"
   ]
  },
  {
   "cell_type": "markdown",
   "id": "8db893ce",
   "metadata": {},
   "source": [
    "The goal of this assignment is to detect changepoints in audio signals. For this purpose, we will use a Python library named librosa.\n",
    "\n",
    "To learn more about librosa, visit: https://librosa.org/"
   ]
  },
  {
   "cell_type": "code",
   "execution_count": null,
   "id": "bf0560ed",
   "metadata": {},
   "outputs": [],
   "source": [
    "!pip install pandas\n",
    "!pip install tqdm"
   ]
  },
  {
   "cell_type": "code",
   "execution_count": null,
   "id": "907a17c1",
   "metadata": {},
   "outputs": [],
   "source": [
    "from matplotlib import pyplot as plt\n",
    "%matplotlib inline\n",
    "\n",
    "from IPython.display import Audio, display\n",
    "import librosa\n",
    "import librosa.display\n",
    "import matplotlib\n",
    "import numpy as np\n",
    "import pandas as pd\n",
    "import scipy\n",
    "import sklearn\n",
    "from sklearn.metrics import precision_recall_curve\n",
    "import tqdm\n",
    "\n",
    "for module in [librosa, matplotlib, np, pd, scipy, sklearn, tqdm]:\n",
    "    print(\"{} version: {}\".format(module.__name__, module.__version__))"
   ]
  },
  {
   "cell_type": "markdown",
   "id": "64f85606",
   "metadata": {},
   "source": [
    "**Part I. Detecting a sine wave in noise**\n",
    "\n",
    "*Exercise*\n",
    "\n",
    "Design a real-valued signal of duration equal to two seconds. The first half should contain only white noise of amplitude 1. The second half should contain a mixture of white noise of amplitude 1 and a sine wave of amplitude `a` and frequency `f`."
   ]
  },
  {
   "cell_type": "code",
   "execution_count": null,
   "id": "c437776d",
   "metadata": {},
   "outputs": [],
   "source": [
    "def sine_plus_noise(a, f, sr):\n",
    "    \"\"\"Return a signal\n",
    "    x(t) = a sin(2pi f t) + N(t)\n",
    "    \n",
    "    where N(t) are i.i.d. samples from the\n",
    "    standard normal distribution.\n",
    "    The duration of x is equal to two seconds.\n",
    "    \n",
    "    Parameters\n",
    "    ----------\n",
    "    a: signal-to-noise ratio\n",
    "    f: frequency of the wave in Hertz\n",
    "    decay_time: decay time in seconds\n",
    "    \"\"\"\n",
    "    # TODO\n",
    "    # Consider using np.arange, np.sin, np.randn\n",
    "    # signal =\n",
    "    # noise =\n",
    "    return (signal+noise)"
   ]
  },
  {
   "cell_type": "markdown",
   "id": "0ae3c18c",
   "metadata": {},
   "source": [
    "*Questions*\n",
    "\n",
    "1. Set `sr=22050 Hz`. How many samples are there in `sine(a, f, sr)`?\n",
    "2. Does the sign of `a` matter for audio perception? Why?\n",
    "3. Does the sign of `f` matter for audio perception? Why?\n",
    "\n",
    "Now let us listen to a sample."
   ]
  },
  {
   "cell_type": "code",
   "execution_count": null,
   "id": "62345b1c",
   "metadata": {},
   "outputs": [],
   "source": [
    "a = 10.0\n",
    "f = 500\n",
    "sr = 22050\n",
    "\n",
    "x = sine_plus_noise(a, f, sr)\n",
    "Audio(x, rate=sr)"
   ]
  },
  {
   "cell_type": "markdown",
   "id": "09fd8b18",
   "metadata": {},
   "source": [
    "*Question*\n",
    "\n",
    "4. Make sure you can hear the sine tone. Then lower the value of `a` until you can no longer hear it (given your current audio setup). What value do you find?\n",
    "\n",
    "Let us now visualize the waveform before and after the changepoint."
   ]
  },
  {
   "cell_type": "code",
   "execution_count": null,
   "id": "f4014c8c",
   "metadata": {},
   "outputs": [],
   "source": [
    "a = 10\n",
    "f = 500\n",
    "sr = 22050\n",
    "\n",
    "t = np.arange(0, 2, 1/sr)\n",
    "x = sine_plus_noise(a, f, sr)\n",
    "\n",
    "plt.figure(figsize=(10, 3))\n",
    "plt.subplot(1, 2, 1)\n",
    "plt.plot(t, x)\n",
    "plt.grid(linestyle=\"--\")\n",
    "plt.xlim(0.5, 0.51)\n",
    "plt.subplot(1, 2, 2)\n",
    "plt.plot(t, x)\n",
    "plt.xlim(1.5, 1.51)\n",
    "plt.grid(linestyle=\"--\")"
   ]
  },
  {
   "cell_type": "markdown",
   "id": "9d0508ac",
   "metadata": {},
   "source": [
    "*Question*\n",
    "\n",
    "5. What do you observe when varying `a` with `f=500 Hz`?\n",
    "6. Set `a` to `1` and `f` to `11025 Hz`. What happens? Explain."
   ]
  },
  {
   "cell_type": "markdown",
   "id": "d685e078",
   "metadata": {},
   "source": [
    "**Part II. Waveform thresholding**"
   ]
  },
  {
   "cell_type": "code",
   "execution_count": null,
   "id": "b58a91a6",
   "metadata": {},
   "outputs": [],
   "source": [
    "def evaluate(feature, a, n_trials, f=500):\n",
    "    sr = 22050\n",
    "    Y = []\n",
    "    for trial in tqdm.tqdm(range(n_trials)):\n",
    "        x = sine_plus_noise(a, f, sr)\n",
    "        y = feature(x)\n",
    "        Y.append(y)\n",
    "    return np.array(Y)"
   ]
  },
  {
   "cell_type": "markdown",
   "id": "3e778536",
   "metadata": {},
   "source": [
    "*Question*\n",
    "\n",
    "1. What does the `evaluate` function do?\n",
    "2. What is the type of the first argument, `feature`?\n",
    "\n",
    "Now, we evaluate a simple-minded feature for event detection, which extract the maximum value of the waveform over the time dimension."
   ]
  },
  {
   "cell_type": "code",
   "execution_count": null,
   "id": "13254e89",
   "metadata": {},
   "outputs": [],
   "source": [
    "def max_waveform(x):\n",
    "    return max(x)\n",
    "\n",
    "Y0 = evaluate(max_waveform, a=0, n_trials=100)\n",
    "Y1 = evaluate(max_waveform, a=1, n_trials=100)\n",
    "\n",
    "plt.hist(Y0, alpha=0.5, label=\"a = 0\");\n",
    "plt.hist(Y1, alpha=0.5, label=\"a = 1\");\n",
    "plt.xlim(3.5, 6.5)\n",
    "plt.grid(linestyle=\"--\")\n",
    "plt.legend()"
   ]
  },
  {
   "cell_type": "markdown",
   "id": "5ba3e534",
   "metadata": {},
   "source": [
    "*Questions*\n",
    "\n",
    "3. Why does the output `y = feature(x)` vary between independent trials?\n",
    "\n",
    "4. Threshold `Y1` and `Y0` with a threshold equal to `delta = 4.5`. How many TP/FP/TN/FN do you obtain?\n",
    "\n",
    "Now, we plot a precision-recall curve for the `max_waveform` feature."
   ]
  },
  {
   "cell_type": "code",
   "execution_count": null,
   "id": "d62833f7",
   "metadata": {},
   "outputs": [],
   "source": [
    "Y_pred = np.concatenate([Y0, Y1])\n",
    "Y_true = np.concatenate([np.zeros(Y0.shape), np.ones(Y1.shape)])\n",
    "precisions, recalls, thresholds = precision_recall_curve(Y_true, Y_pred)\n",
    "\n",
    "plt.figure(figsize=(4, 4))\n",
    "plt.plot(recalls, precisions)\n",
    "plt.xlabel(\"Recall\")\n",
    "plt.ylabel(\"Precision\")\n",
    "plt.xlim(0, 1.05)\n",
    "plt.ylim(0, 1.05)\n",
    "plt.grid(linestyle=\"--\")"
   ]
  },
  {
   "cell_type": "markdown",
   "id": "cdf235b2",
   "metadata": {},
   "source": [
    "*Question*\n",
    "\n",
    "5. Which threshold leads to highest precision?\n",
    "\n",
    "6. Which threshold leads to highest recall?\n",
    "\n",
    "*Exercises*\n",
    "\n",
    "a. Write a function `f1_score` which computes the sequence of F1-scores associated to `precisions` and `recalls`.\n",
    "\n",
    "b. Write a function `best_threshold` which computes the threshold yielding the best F1-score.\n",
    "\n",
    "c. Write a function `area` which computes the area under the precision-recall curve."
   ]
  },
  {
   "cell_type": "code",
   "execution_count": null,
   "id": "ca17efce",
   "metadata": {},
   "outputs": [],
   "source": [
    "def f1_score(precisions, recalls):\n",
    "    \"\"\"Compute the F1-scores associated to a sequence\n",
    "    of precisions and recalls.\n",
    "    \n",
    "    F = 2*P*R / (P+R)\n",
    "    \n",
    "    where P is precision and R is recall.\n",
    "    \n",
    "    Parameters\n",
    "    ----------\n",
    "    precisions: array of precisions\n",
    "    recalls: array of recalls\n",
    "    \"\"\"\n",
    "    # TODO\n",
    "    return f1s\n",
    "\n",
    "\n",
    "def best_threshold(f1s, thresholds):\n",
    "    \"\"\"Find the best threshold associated to a sequence\n",
    "    of F1-scores.\n",
    "    \n",
    "    threshold = argmax_{tau} F(tau) \n",
    "    \n",
    "    where F(tau) is the f1 score for threshold tau.\n",
    "    \n",
    "    Parameters\n",
    "    ----------\n",
    "    f1s: array of F1-scores\n",
    "    thresholds: array of thresholds\n",
    "    \"\"\"\n",
    "    # TODO\n",
    "    # Consider using np.argmax\n",
    "    threshold = thresholds[np.argmax(f1s)]\n",
    "    return threshold\n",
    "\n",
    "\n",
    "def area(precisions, recalls):\n",
    "    \"\"\"Compute the area under the precision-recal curve (AUPRC).\n",
    "    \n",
    "    Parameters\n",
    "    ----------\n",
    "    precisions: array of precisions\n",
    "    recalls: array of recalls\n",
    "    \"\"\"\n",
    "    # TODO\n",
    "    # Consider using np.trapz\n",
    "    # Consider using array[::-1] to reverse an array\n",
    "    return auprc"
   ]
  },
  {
   "cell_type": "markdown",
   "id": "5d1130b5",
   "metadata": {},
   "source": [
    "*Questions*\n",
    "\n",
    "7. What is the best threshold and the corresponding F1-score?\n",
    "\n",
    "8. What is the area under the precision-recall curve (AUPRC) ?\n",
    "\n",
    "9. What happens to AUPRC if `a=2` instead of `a=1`?\n",
    "\n",
    "10. What happens to AUPRC if `a=0.5` instead of `a=1`?\n",
    "\n",
    "*Exercise*\n",
    "\n",
    "d. Modify the function `evaluate` so that the waveform `x` is multiplied\n",
    "by a constant `k`."
   ]
  },
  {
   "cell_type": "code",
   "execution_count": null,
   "id": "0034db60",
   "metadata": {},
   "outputs": [],
   "source": [
    "def evaluate_k(k, feature, a, n_trials, f=500):\n",
    "    \"\"\"\n",
    "    Compute:\n",
    "    \n",
    "    Y(i) = feature(k x_i)\n",
    "    \n",
    "    where the signals x_i are independent\n",
    "    samples of `sine_plus_noise`.\n",
    "    \n",
    "    Parameters\n",
    "    ----------\n",
    "    k: gain factor\n",
    "    feature: feature extractor\n",
    "    a: amplitude\n",
    "    n_trials: number of signals x_i\n",
    "    f: sine wave frequency in Hertz\n",
    "    \"\"\"\n",
    "    sr = 22050\n",
    "    Y = []\n",
    "    for trial in tqdm.tqdm(range(n_trials)):\n",
    "        x = k * sine_plus_noise(a, f, sr)\n",
    "        y = feature(x)\n",
    "        Y.append(y)\n",
    "    return np.array(Y)"
   ]
  },
  {
   "cell_type": "markdown",
   "id": "7c006f66",
   "metadata": {},
   "source": [
    "*Question*\n",
    "\n",
    "11. Run `evaluate_k` with `k=2`. What is the best threshold and F1-score? What is the AUPRC?\n",
    "\n",
    "12. Same question with `k=0.5`.\n",
    "\n",
    "13. Is the `max_waveform` feature invariant or equivariant to multiplication by `k`?"
   ]
  },
  {
   "cell_type": "markdown",
   "id": "9f4c6620",
   "metadata": {},
   "source": [
    "**Part III. Spectral flux**\n",
    "\n",
    "In this part, we will try to improve the simple-minded feature above (`max_waveform`).\n",
    "\n",
    "We will design another feature: spectral flux; that is, the rectified temporal first-order difference of the spectrogram, followed by global maximum pooling over the time-frequency domain."
   ]
  },
  {
   "cell_type": "markdown",
   "id": "4c717241",
   "metadata": {},
   "source": [
    "*Exercise*\n",
    "\n",
    "Write a function `spectral_flux` which extracts:\n",
    "\n",
    "```\n",
    "flux = max_{t, f} max(S(t+1, f) - S(t, f), 0)\n",
    "```\n",
    "\n",
    "where `S` is the spectrogram of the signal `x`."
   ]
  },
  {
   "cell_type": "code",
   "execution_count": null,
   "id": "0778538f",
   "metadata": {},
   "outputs": [],
   "source": [
    "def spectral_flux(x):\n",
    "    \"\"\"Spectral flux (linear amplitude scaling).\n",
    "    \n",
    "    flux = max_{t, f} max(S(t+1, f) - S(t, f), 0)\n",
    "    \n",
    "    Parameters\n",
    "    ----------\n",
    "    x: input signal\n",
    "    \"\"\"\n",
    "    S = np.abs(librosa.stft(x))\n",
    "    # Consider using: np.diff, np.maximum, np.max\n",
    "    return flux"
   ]
  },
  {
   "cell_type": "code",
   "execution_count": null,
   "id": "4f0461b5",
   "metadata": {},
   "outputs": [],
   "source": [
    "Y0 = evaluate(spectral_flux, a=0, n_trials=100)\n",
    "a = 1\n",
    "Y1 = evaluate(spectral_flux, a=a, n_trials=100)\n",
    "\n",
    "plt.hist(Y0, alpha=0.5, label=\"a = 0\");\n",
    "plt.hist(Y1, alpha=0.5, label=\"a = {}\".format(a));\n",
    "plt.grid(linestyle=\"--\")\n",
    "plt.legend()"
   ]
  },
  {
   "cell_type": "code",
   "execution_count": null,
   "id": "938feba8",
   "metadata": {},
   "outputs": [],
   "source": [
    "Y_pred = np.concatenate([Y0, Y1])\n",
    "Y_true = np.concatenate([np.zeros(Y0.shape), np.ones(Y1.shape)])\n",
    "precisions, recalls, thresholds = precision_recall_curve(Y_true, Y_pred)\n",
    "\n",
    "plt.figure(figsize=(4, 4))\n",
    "plt.plot(recalls, precisions)\n",
    "plt.xlabel(\"Recall\")\n",
    "plt.ylabel(\"Precision\")\n",
    "plt.xlim(0, 1.05)\n",
    "plt.ylim(0, 1.05)\n",
    "plt.grid(linestyle=\"--\")"
   ]
  },
  {
   "cell_type": "markdown",
   "id": "f7b607b3",
   "metadata": {},
   "source": [
    "*Questions*\n",
    "1. Evaluate spectral flux with `a=0` versus `a=1`. What results do you obtain?\n",
    "\n",
    "2. What is the area under the precision-recall curve (AUPRC) ?\n",
    "\n",
    "3. What happens to AUPRC if `a=0.5` instead of `a=1`?\n",
    "\n",
    "4. What happens to AUPRC if `a=0.25` instead of `a=1`?\n",
    "\n",
    "5. Is the `spectral_flux` feature invariant or equivariant to frequency `f`? Why?\n",
    "\n",
    "6. Is the `spectral_flux` feature invariant or equivariant to multiplication by `k`? Why?\n"
   ]
  },
  {
   "cell_type": "markdown",
   "id": "ae3b592c",
   "metadata": {},
   "source": [
    "**Part IV. Logarithmic transformation**\n",
    "\n",
    "In this part, we will modify the spectral flux so that it computes rectified differences over the *logarithms* of spectrogram magnitudes.\n",
    "\n",
    "*Exercise*\n",
    "\n",
    "\n",
    "Write a function `decibel_flux` which extracts:\n",
    "\n",
    "```\n",
    "flux = max_{t, f} max(10 log_10 S(t+1, f) - 10 log_10 S(t, f), 0)\n",
    "```\n",
    "\n",
    "where `S` is the magnitude spectrogram of the signal `x`."
   ]
  },
  {
   "cell_type": "code",
   "execution_count": null,
   "id": "b00acaa5",
   "metadata": {},
   "outputs": [],
   "source": [
    "def decibel_flux(x):\n",
    "    \"\"\"Spectral flux (logarithmic amplitude scaling).\n",
    "    \n",
    "    flux = max_{t, f} max(10 log_10 S(t+1, f) - 10 log_10 S(t, f), 0)\n",
    "    \n",
    "    Parameters\n",
    "    ----------\n",
    "    x: input signal\n",
    "    \"\"\"\n",
    "    S = np.abs(librosa.stft(x))\n",
    "    # Consider using: np.log10, np.diff, np.maximum, np.max\n",
    "    return flux"
   ]
  },
  {
   "cell_type": "code",
   "execution_count": null,
   "id": "bb04c09d",
   "metadata": {},
   "outputs": [],
   "source": [
    "x = sine_plus_noise(a=1, f=500, sr=22050)\n",
    "\n",
    "fig, ax = plt.subplots(1, 3, figsize=(9, 3), sharey=True)\n",
    "for i, feature in enumerate([max_waveform, spectral_flux, decibel_flux]):\n",
    "    ax[i].plot(range(1, 10), [feature(k*x)/feature(x) for k in range(1, 10)], \"-o\")\n",
    "    ax[i].set_ylim(0, 10)\n",
    "    ax[i].set_ylim(0, 10)\n",
    "    ax[i].grid(linestyle=\"--\")\n",
    "    ax[i].set_xlabel(\"Multiplicative factor k\")\n",
    "    ax[i].set_ylabel(\"feature(kx)\")\n",
    "    ax[i].set_title(feature.__name__)\n",
    "plt.tight_layout()"
   ]
  },
  {
   "cell_type": "markdown",
   "id": "f07a1cf7",
   "metadata": {},
   "source": [
    "1. Is the `decibel_flux` feature invariant or equivariant to frequency `f`? Why?\n",
    "\n",
    "2. Is the `decibel_flux` feature invariant or equivariant to multiplication by `k`? Why?"
   ]
  },
  {
   "cell_type": "code",
   "execution_count": null,
   "id": "d742cddc",
   "metadata": {},
   "outputs": [],
   "source": [
    "Y0 = evaluate(decibel_flux, a=0, n_trials=100)\n",
    "a = 1\n",
    "Y1 = evaluate(decibel_flux, a=a, n_trials=100)\n",
    "\n",
    "plt.hist(Y0, alpha=0.5, label=\"a = 0\");\n",
    "plt.hist(Y1, alpha=0.5, label=\"a = {}\".format(a));\n",
    "plt.grid(linestyle=\"--\")\n",
    "plt.legend()"
   ]
  },
  {
   "cell_type": "code",
   "execution_count": null,
   "id": "621e9ba7",
   "metadata": {},
   "outputs": [],
   "source": [
    "Y_pred = np.concatenate([Y0, Y1])\n",
    "Y_true = np.concatenate([np.zeros(Y0.shape), np.ones(Y1.shape)])\n",
    "precisions, recalls, thresholds = precision_recall_curve(Y_true, Y_pred)\n",
    "\n",
    "plt.figure(figsize=(4, 4))\n",
    "plt.plot(recalls, precisions)\n",
    "plt.xlabel(\"Recall\")\n",
    "plt.ylabel(\"Precision\")\n",
    "plt.xlim(0, 1.05)\n",
    "plt.ylim(0, 1.05)\n",
    "plt.grid(linestyle=\"--\")\n",
    "\n",
    "area(precisions, recalls)"
   ]
  },
  {
   "cell_type": "markdown",
   "id": "9dddaa63",
   "metadata": {},
   "source": [
    "*Questions*\n",
    "\n",
    "1. Evaluate spectral flux with `a=0` versus `a=1`. What results do you obtain?\n",
    "\n",
    "2. What is the area under the precision-recall curve (AUPRC) ?\n",
    "\n",
    "3. Raise `a` until the AUPRC is at least `0.9`. What value of `a` do you get?\n",
    "\n",
    "4. Explain why `decibel_flux` is worse than `spectral_flux` in low-SNR (low `a`) settings."
   ]
  },
  {
   "cell_type": "markdown",
   "id": "661250f1",
   "metadata": {},
   "source": [
    "**Part V. Per-Channel Energy Normalization**\n",
    "\n",
    "In this section, we will apply per-channel energy normalization (PCEN) onto the spectrogram as an alternative to decibel-scaled spectral flux.\n",
    "\n",
    "*Exercise*\n",
    "\n",
    "Write a function `max_pcen` which extracts\n",
    "\n",
    "```\n",
    "maxP = max_{t,f} E[t, f] / M[t, f]\n",
    "```\n",
    "\n",
    "where `E` is the magnitude scalogram of `x` and\n",
    "```\n",
    "M[t, f] = 1/(1+t) \\sum_{tau<=t} E[tau, f]\n",
    "```\n",
    "\n",
    "is the cumulative mean of `E` over the time dimension.\n",
    "\n",
    "Try vectorizing your code! Use `np.cumsum` instead of a `for` loop."
   ]
  },
  {
   "cell_type": "code",
   "execution_count": null,
   "id": "91ac1e44",
   "metadata": {},
   "outputs": [],
   "source": [
    "def max_pcen(x):\n",
    "    \"\"\"Maximum-pooled PCEN.\n",
    "    \n",
    "    maxP = max_{t,f} E[t, f] / M[t, f]\n",
    "    \n",
    "    Parameters\n",
    "    ----------\n",
    "    x: input signal\n",
    "    \"\"\"\n",
    "    E = np.abs(librosa.stft(x))\n",
    "    # Consider using: np.arange, np.cumsum, np.newaxis, np.max\n",
    "    return maxP"
   ]
  },
  {
   "cell_type": "markdown",
   "id": "995dde86",
   "metadata": {},
   "source": [
    "*Questions*\n",
    "\n",
    "1. Is the `max_pcen` feature invariant or equivariant to frequency `f`? Why?\n",
    "\n",
    "2. Is the `max_pcen` feature invariant or equivariant to multiplication by `k`? Why?"
   ]
  },
  {
   "cell_type": "code",
   "execution_count": null,
   "id": "d08dd951",
   "metadata": {
    "scrolled": true
   },
   "outputs": [],
   "source": [
    "Y0 = evaluate(max_pcen, a=0, n_trials=100)\n",
    "a = 1\n",
    "Y1 = evaluate(max_pcen, a=a, n_trials=100)\n",
    "\n",
    "plt.hist(Y0, alpha=0.5, label=\"a = 0\");\n",
    "plt.hist(Y1, alpha=0.5, label=\"a = 1\".format(a));\n",
    "plt.grid(linestyle=\"--\")\n",
    "plt.legend()"
   ]
  },
  {
   "cell_type": "markdown",
   "id": "e2bb4917",
   "metadata": {},
   "source": [
    "*Questions*\n",
    "\n",
    "3. Evaluate PCEN with `a=0` versus `a=1`. What results do you obtain?\n",
    "\n",
    "4. Lower `a` until the AUPRC is below `0.9`. What value of `a` do you get?\n",
    "\n",
    "5. What is the resemblance between `pcen` and `decibel_flux`? What is the difference?"
   ]
  },
  {
   "cell_type": "markdown",
   "id": "98ea2e19",
   "metadata": {},
   "source": [
    "**Part VI. Analysis of variance**\n",
    "\n",
    "In this, section, we will perform an analysis of variance (ANOVA) between two groups: before and after the \n",
    "\n",
    "*Exercise*\n",
    "\n",
    "Write a function `anova(x)` which extracts\n",
    "\n",
    "```\n",
    "maxR = max_{t,f} V[f] / (V_past[t, f] + V_future[t, f])\n",
    "```\n",
    "\n",
    "where `V = (\\sum_{t,f} E[t,f]**2) - (\\sum_{t,f} E[t,f])**2` is the global per-channel variance of `E` and `V_past[t,f]` (resp. `V_future[t,f]`) are the per-channel variances before (resp. after) a candidate changepoint `t`.\n",
    "\n",
    "Try vectorizing your code! Use `np.cumsum` instead of a `for` loop."
   ]
  },
  {
   "cell_type": "code",
   "execution_count": null,
   "id": "4a9ef970",
   "metadata": {},
   "outputs": [],
   "source": [
    "def anova(x):\n",
    "    \"\"\"Analysis of Variance (ANOVA).\n",
    "    \n",
    "    maxR = max_{t,f} V[f] / (V_past[t, f] + V_future[t, f])\n",
    "    \n",
    "    Parameters\n",
    "    ----------\n",
    "    x: input signal\n",
    "    \"\"\"\n",
    "    E = np.abs(librosa.stft(x))\n",
    "    # Consider using:\n",
    "    # np.arange, np.cumsum, np.newaxis, np.var, np.max\n",
    "    return max_ratio"
   ]
  },
  {
   "cell_type": "code",
   "execution_count": null,
   "id": "f3ed4bd4",
   "metadata": {},
   "outputs": [],
   "source": [
    "Y0 = evaluate(anova, a=0, n_trials=100)\n",
    "a = 1.0\n",
    "Y1 = evaluate(anova, a=a, n_trials=100)\n",
    "\n",
    "plt.hist(Y0, alpha=0.5, label=\"a = 0\");\n",
    "plt.hist(Y1, alpha=0.5, label=\"a = {}\".format(a));\n",
    "plt.grid(linestyle=\"--\")\n",
    "plt.legend()"
   ]
  },
  {
   "cell_type": "markdown",
   "id": "54c6ba20",
   "metadata": {},
   "source": [
    "*Questions*\n",
    "\n",
    "1. Is the `anova` feature invariant or equivariant to frequency `f`? Why?\n",
    "\n",
    "2. Is the `anova` feature invariant or equivariant to multiplication by `k`? Why?\n",
    "\n",
    "3. Evaluate `anova` with `a=0` versus `a=1`. What results do you obtain?\n",
    "\n",
    "4. Lower `a` until the AUPRC is below `0.9`. What value of `a` do you get?\n",
    "\n",
    "5. Is there a drawback of using `anova` versus all other proposed methods?"
   ]
  },
  {
   "cell_type": "markdown",
   "id": "b4a8cb9f",
   "metadata": {},
   "source": [
    "**Part VI. Benchmark**"
   ]
  },
  {
   "cell_type": "code",
   "execution_count": null,
   "id": "69c3c52c",
   "metadata": {},
   "outputs": [],
   "source": [
    "sr = 22050\n",
    "n_trials = 100\n",
    "f = 500\n",
    "amplitudes = [-20, -15, -10] + list(range(-10, 1)) + [3, 6, 9, 12, 15, 20, 25, 30]\n",
    "AUPRC = {}\n",
    "features = [max_waveform, spectral_flux, decibel_flux, max_pcen, anova]\n",
    "Y0 = {feature.__name__: [] for feature in features}\n",
    "\n",
    "for trial in tqdm.tqdm(range(n_trials)):\n",
    "    x = sine_plus_noise(a=0, f=f, sr=sr)\n",
    "    for feature in features:\n",
    "        y = feature(x)\n",
    "        Y0[feature.__name__].append(y)\n",
    "    \n",
    "for feature in features:\n",
    "    Y0[feature.__name__] = np.array(Y0[feature.__name__])\n",
    "\n",
    "for a_dB in tqdm.tqdm(amplitudes):\n",
    "    a = 10**(a_dB/10)\n",
    "    for feature in features:\n",
    "        AUPRC[(a_dB, feature.__name__)] = []\n",
    "    Y1 = {feature.__name__: [] for feature in features}\n",
    "    for trial in range(n_trials):\n",
    "        x = sine_plus_noise(a=a, f=f, sr=sr)\n",
    "        for feature in features:\n",
    "            Y1[feature.__name__].append(feature(x))\n",
    "    for feature in features:\n",
    "        Y1[feature.__name__] = np.array(Y1[feature.__name__])\n",
    "        Y_pred = np.concatenate([Y0[feature.__name__], Y1[feature.__name__]])\n",
    "        Y_true = np.concatenate([\n",
    "            np.zeros(Y0[feature.__name__].shape), np.ones(Y1[feature.__name__].shape)])\n",
    "        precisions, recalls, thresholds = precision_recall_curve(Y_true, Y_pred)\n",
    "        AUPRC[(a_dB, feature.__name__)].append(area(precisions, recalls))"
   ]
  },
  {
   "cell_type": "code",
   "execution_count": null,
   "id": "f1ac4d6e",
   "metadata": {},
   "outputs": [],
   "source": [
    "plt.figure(figsize=(6, 5))\n",
    "for feature in features:\n",
    "    plt.plot(amplitudes, [AUPRC[a, feature.__name__] for a in amplitudes], \"-o\", label=feature.__name__)\n",
    "plt.legend()\n",
    "plt.gca().invert_xaxis()\n",
    "plt.grid(linestyle=\"--\")\n",
    "plt.xlabel(\"Signal-to-noise ratio (SNR)\")\n",
    "plt.ylabel(\"AUPRC\")\n",
    "plt.title(\"Changepoint detection benchmark\")"
   ]
  },
  {
   "cell_type": "markdown",
   "id": "0393f02b",
   "metadata": {},
   "source": [
    "*Questions*\n",
    "\n",
    "1. Execute the code above. What does it do? Which system is the best?\n",
    "\n",
    "2. Rate systems from best to worst in terms of robustness to noise.\n",
    "\n",
    "3. Which of these systems invariant to multiplication by `k`?\n",
    "\n",
    "4. Which are spectrogram-based?\n",
    "\n",
    "5. Which take temporal context into account beyond one spectrogram frame?\n",
    "\n",
    "6. Which are causal?"
   ]
  }
 ],
 "metadata": {
  "kernelspec": {
   "display_name": "Python 3 (ipykernel)",
   "language": "python",
   "name": "python3"
  },
  "language_info": {
   "codemirror_mode": {
    "name": "ipython",
    "version": 3
   },
   "file_extension": ".py",
   "mimetype": "text/x-python",
   "name": "python",
   "nbconvert_exporter": "python",
   "pygments_lexer": "ipython3",
   "version": "3.10.0"
  }
 },
 "nbformat": 4,
 "nbformat_minor": 5
}
