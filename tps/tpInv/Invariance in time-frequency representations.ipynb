{
 "cells": [
  {
   "cell_type": "markdown",
   "id": "a79fb6a4",
   "metadata": {},
   "source": [
    "**Invariance in time-frequency representations**\n",
    "\n",
    "Instructor: Vincent Lostanlen, LS2N, CNRS"
   ]
  },
  {
   "cell_type": "markdown",
   "id": "b1e0ef79",
   "metadata": {},
   "source": [
    "The goal of this assignment is to disentangle the factors of variability in natural audio signals, such as musical notes. For this purpose, we will use a Python library named librosa.\n",
    "\n",
    "To learn more about librosa, visit: https://librosa.org/"
   ]
  },
  {
   "cell_type": "code",
   "execution_count": null,
   "id": "96d3c48d",
   "metadata": {},
   "outputs": [],
   "source": [
    "!pip install pandas"
   ]
  },
  {
   "cell_type": "code",
   "execution_count": null,
   "id": "1ea37254",
   "metadata": {},
   "outputs": [],
   "source": [
    "from matplotlib import pyplot as plt\n",
    "%matplotlib inline\n",
    "\n",
    "from IPython.display import Audio, display\n",
    "import librosa\n",
    "import librosa.display\n",
    "import matplotlib\n",
    "import numpy as np\n",
    "import pandas as pd\n",
    "import scipy\n",
    "import tqdm\n",
    "\n",
    "for module in [librosa, matplotlib, np, pd, scipy, tqdm]:\n",
    "    print(\"{} version: {}\".format(module.__name__, module.__version__))"
   ]
  },
  {
   "cell_type": "markdown",
   "id": "ee7eac56",
   "metadata": {},
   "source": [
    "**Part I: Invariance to time shifts**\n",
    "\n",
    "As a first step, let us look at the autocorrelation function of an exponential decay signal.\n",
    "\n",
    "This signal will later serve as an idealized model for the amplitude envelope of a musical note.\n",
    "\n",
    "\n",
    "*Exercise*\n",
    "\n",
    "Design as real-valued signal x such that x(0)=1 and such that the amplitude of x decreases by a factor 2 after every decay_time."
   ]
  },
  {
   "cell_type": "code",
   "execution_count": null,
   "id": "3c4b2364",
   "metadata": {},
   "outputs": [],
   "source": [
    "def exponential_decay(duration=1.0, decay_time=0.05, sr=22050.0):\n",
    "    \"\"\"Return a real-valued signal x whose amplitude decreases exponentially.\n",
    "    It should satisfy: \n",
    "        x(0) = 1\n",
    "        x(decay_time) = 1/2\n",
    "        x(2*decay_time) = 1/4\n",
    "    etc.\n",
    "    Parameters:\n",
    "    ----------\n",
    "    duration: float, the total duration of the signal in seconds\n",
    "    decay_time: float, the time it takes for the amplitude to decrease by a factor of 2\n",
    "    sr: float, the sample rate in Hz\n",
    "    \"\"\"\n",
    "    # TODO\n",
    "    # Consider using: np.arange, np.exp\n",
    "    return x"
   ]
  },
  {
   "cell_type": "code",
   "execution_count": null,
   "id": "7b3dead3",
   "metadata": {},
   "outputs": [],
   "source": [
    "sr = 22050\n",
    "duration = 1.0\n",
    "decay_time = 0.05\n",
    "\n",
    "t = np.arange(0, duration, 1/sr)\n",
    "x = exponential_decay(sr, duration, decay_time)\n",
    "\n",
    "plt.plot(t, x)\n",
    "plt.grid(linestyle=\"--\")\n",
    "plt.xlabel(\"Time (s)\")\n",
    "plt.xlim(0, duration)\n",
    "plt.title(\"Exponential decay\")"
   ]
  },
  {
   "cell_type": "markdown",
   "id": "906dc237",
   "metadata": {},
   "source": [
    "*Questions*\n",
    "1. What is the value of `x[int(sr*decay_time)]` ?\n",
    "2. What is the value of `x[int(n*sr*decay_time)]` for any integer `n` ?"
   ]
  },
  {
   "cell_type": "markdown",
   "id": "9bb2a0ef",
   "metadata": {},
   "source": [
    "*Exercise*\n",
    "\n",
    "Compute the normalized autocorrelation of the signal x."
   ]
  },
  {
   "cell_type": "code",
   "execution_count": null,
   "id": "87c072d6",
   "metadata": {},
   "outputs": [],
   "source": [
    "def normalized_autocorrelation(x):\n",
    "    \"\"\"Return the normalized autocorrelation of a\n",
    "    one-dimensional real-valued signal x of length N.\n",
    "    \n",
    "    For tau between (-N+1) and N,\n",
    "    \n",
    "    xcorr(tau) = sum_{t=0}^{N-1} xnorm_{t} xnorm_{t-tau}\n",
    "    \n",
    "    where xnorm is the L2-normalized version of x:\n",
    "    \n",
    "    xnorm(t) = x(t) / ||x||_2\n",
    "    \n",
    "    Parameters\n",
    "    ----------\n",
    "    sr: sample rate in Hertz\n",
    "    duration: duration in seconds\n",
    "    decay_time: decay time in seconds\n",
    "    \"\"\"\n",
    "    # TODO\n",
    "    # Consider using: scipy.signal.correlate, scipy.linalg.norm\n",
    "    return xcorr"
   ]
  },
  {
   "cell_type": "code",
   "execution_count": null,
   "id": "d1eaf7cf",
   "metadata": {},
   "outputs": [],
   "source": [
    "x = exponential_decay(sr, duration, 0.1)\n",
    "xcorr = normalized_autocorrelation(x)\n",
    "lags = scipy.signal.correlation_lags(x.size, x.size)\n",
    "cutoff_lag = np.min(np.abs(lags[xcorr<0.5]))\n",
    "condition = np.abs(lags)<cutoff_lag\n",
    "\n",
    "plt.plot(lags/sr, xcorr)\n",
    "plt.plot(\n",
    "    lags[np.abs(lags)<cutoff_lag]/sr,\n",
    "    0.5 * np.ones_like(lags[np.abs(lags)<cutoff_lag]))\n",
    "plt.xlim(-duration, duration)\n",
    "plt.grid(linestyle=\"--\")\n",
    "plt.xlabel(\"Time (s)\")\n",
    "plt.title(\"Normalized autocorrelation\")"
   ]
  },
  {
   "cell_type": "markdown",
   "id": "5710fe03",
   "metadata": {},
   "source": [
    "Plot the normalized autocorrelation of the exponential decay signal which you designed earlier.\n",
    "\n",
    "*Questions*\n",
    "\n",
    "3. What is the value of normalized autocorrelation at lag = zero ?\n",
    "\n",
    "4. What is the minimum lag such that the normalized autocorrelation is below 0.5?\n",
    "\n",
    "5. Same question after varying the decay time to 100 milliseconds, 200 milliseconds."
   ]
  },
  {
   "cell_type": "markdown",
   "id": "efca0931",
   "metadata": {},
   "source": [
    "*Exercise*\n",
    "\n",
    "Define a piecewise constant signal, equal to 1 over [0, decay_time] and zero elsewhere."
   ]
  },
  {
   "cell_type": "code",
   "execution_count": null,
   "id": "61ea5b36",
   "metadata": {},
   "outputs": [],
   "source": [
    "def rectangular(sr, duration, decay_time):\n",
    "    \"\"\"Return a real-valued signal x such that\n",
    "    x(t) = 1 if t is between 0 and decay_time\n",
    "    x(t) = 0 if t is larger than decay_time\n",
    "    \n",
    "    Parameters\n",
    "    ----------\n",
    "    sr: sample rate in Hertz\n",
    "    duration: duration in seconds\n",
    "    decay_time: decay time in seconds\n",
    "    \"\"\"\n",
    "    # TODO\n",
    "    # Consider using: np.arange, np.zeros, range indexing\n",
    "    return x"
   ]
  },
  {
   "cell_type": "code",
   "execution_count": null,
   "id": "dc275169",
   "metadata": {},
   "outputs": [],
   "source": [
    "sr = 22050\n",
    "duration = 1.0\n",
    "decay_time = 0.05\n",
    "\n",
    "t = np.arange(0, duration, 1/sr)\n",
    "x = rectangular(sr, duration, decay_time)\n",
    "\n",
    "plt.plot(t, x)\n",
    "plt.grid(linestyle=\"--\")\n",
    "plt.xlabel(\"Time (s)\")\n",
    "plt.xlim(0, duration)\n",
    "plt.title(\"Rectangular signal\")"
   ]
  },
  {
   "cell_type": "markdown",
   "id": "9bbc83f2",
   "metadata": {},
   "source": [
    "Replace the exponential decay signal by a rectangular signal of width lag_time.\n",
    "\n",
    "*Questions*\n",
    "\n",
    "6. What is the shape of the normalized autocorrelation signal?\n",
    "7. For what range of lags does the normalized autocorrelation exceed 0.5?"
   ]
  },
  {
   "cell_type": "markdown",
   "id": "81d516bc",
   "metadata": {},
   "source": [
    "*Exercise*\n",
    "\n",
    "Design a musical note as an exponentially decaying sine wave."
   ]
  },
  {
   "cell_type": "code",
   "execution_count": null,
   "id": "8b7a2a1e",
   "metadata": {},
   "outputs": [],
   "source": [
    "def exp_decaying_sine(sr, duration, decay_time, carrier_frequency):\n",
    "    \"\"\"Return an exponentially decaying sine wave.\n",
    "    \n",
    "    Parameters\n",
    "    ----------\n",
    "    sr: sample rate in Hertz\n",
    "    duration: duration in seconds\n",
    "    decay_time: decay time in seconds\n",
    "    carrier_frequency: carrier frequency in seconds\n",
    "    \"\"\"\n",
    "    # TODO\n",
    "    # Consider using: np.arange, np.sin, exponential_decay\n",
    "    return x"
   ]
  },
  {
   "cell_type": "code",
   "execution_count": null,
   "id": "b58f9b5c",
   "metadata": {},
   "outputs": [],
   "source": [
    "sr = 22050\n",
    "duration = 1.0\n",
    "decay_time = 0.1\n",
    "carrier_frequency = 10\n",
    "\n",
    "t = np.arange(0, duration, 1/sr)\n",
    "x = exp_decaying_sine(sr, duration, decay_time, carrier_frequency)\n",
    "x_envelope = exponential_decay(sr, duration, decay_time)\n",
    "\n",
    "plt.plot(t, x, label=\"wave\")\n",
    "plt.plot(t, x_envelope, label=\"envelope\")\n",
    "plt.grid(linestyle=\"--\")\n",
    "plt.xlabel(\"Time (s)\")\n",
    "plt.xlim(0, duration)\n",
    "plt.legend()\n",
    "plt.title(\"Exponentially modulated sine wave\")"
   ]
  },
  {
   "cell_type": "markdown",
   "id": "be7b9697",
   "metadata": {},
   "source": [
    "*Questions*\n",
    "\n",
    "8. What is the value of x for t=0 ?\n",
    "\n",
    "9. What is the average value of x? of x_envelope?"
   ]
  },
  {
   "cell_type": "markdown",
   "id": "3bdc80b6",
   "metadata": {},
   "source": [
    "Let us now compare the autocorrelations of x and x_envelope."
   ]
  },
  {
   "cell_type": "code",
   "execution_count": null,
   "id": "84267a14",
   "metadata": {},
   "outputs": [],
   "source": [
    "xcorr = normalized_autocorrelation(x)\n",
    "lags = scipy.signal.correlation_lags(x.size, x.size)\n",
    "cutoff_lag = np.min(np.abs(lags[xcorr<0.5]))\n",
    "condition = np.abs(lags)<cutoff_lag\n",
    "\n",
    "plt.plot(lags/sr, xcorr, label=\"of x\")\n",
    "plt.plot(\n",
    "    lags[np.abs(lags)<cutoff_lag]/sr,\n",
    "    0.5 * np.ones_like(lags[np.abs(lags)<cutoff_lag]))\n",
    "plt.xlim(-duration, duration)\n",
    "plt.grid(linestyle=\"--\")\n",
    "plt.xlabel(\"Time (s)\")\n",
    "plt.title(\"Normalized autocorrelation\")\n",
    "\n",
    "x_env_corr = normalized_autocorrelation(x_envelope)\n",
    "plt.plot(lags/sr, x_env_corr, label=\"of x_env\")\n",
    "plt.legend()"
   ]
  },
  {
   "cell_type": "markdown",
   "id": "ea466d81",
   "metadata": {},
   "source": [
    "*Questions*\n",
    "\n",
    "10. Which signal has the greater invariance, x or x_env ?\n",
    "11. For x, what is the minimum lag such that the normalized autocorrelation is below 0.5?\n",
    "12. Vary decay_time and carrier_frequency. How does it affect this minimum lag?"
   ]
  },
  {
   "cell_type": "markdown",
   "id": "581b1a99",
   "metadata": {},
   "source": [
    "**Part II. Pattern matching in the time-frequency domain**"
   ]
  },
  {
   "cell_type": "markdown",
   "id": "d9376999",
   "metadata": {},
   "source": [
    "Consider the following sequence of musical tones with varying durations and carrier frequencies.\n",
    "It forms an ascending arpeggio (in G major).\n",
    "\n",
    "Our goal is to characterize this arpeggio while satisfying invariance to small time shifts."
   ]
  },
  {
   "cell_type": "code",
   "execution_count": null,
   "id": "74c6876a",
   "metadata": {},
   "outputs": [],
   "source": [
    "note_frequencies = [400, 500, 600, 800] # in Hertz\n",
    "note_values = [1/2, 1/4, 1/4, 1] # in musical beats\n",
    "pulse = 120 # in beats per minute\n",
    "sr = 16000 # in Hertz\n",
    "\n",
    "melody1 = np.concatenate([1/value * exp_decaying_sine(\n",
    "    sr=sr, duration=value*120/pulse, decay_time=0.1*value, carrier_frequency=freq)\n",
    "    for (value, freq) in zip(note_values, note_frequencies)])\n",
    "\n",
    "t = np.arange(len(melody1))/sr\n",
    "plt.plot(t, melody1)\n",
    "plt.xlabel(\"Time (s)\")\n",
    "plt.title(\"Melody 1\")\n",
    "Audio(melody1, rate=sr)"
   ]
  },
  {
   "cell_type": "markdown",
   "id": "193fa7d7",
   "metadata": {},
   "source": [
    "*Exercise*\n",
    "\n",
    "Design another signal, `melody2`, in which the note values are the same as `melody1` but the order of note frequencies is reversed: 800, 600, 500, 400.\n",
    "\n",
    "Consider using the `reversed` function to reverse a list."
   ]
  },
  {
   "cell_type": "code",
   "execution_count": null,
   "id": "9c30acad",
   "metadata": {},
   "outputs": [],
   "source": [
    "melody2 = np.concatenate([1/value * exp_decaying_sine(\n",
    "    sr=sr, duration=value*120/pulse, decay_time=0.1*value, carrier_frequency=freq)\n",
    "    for (value, freq) in zip(note_values, reversed(note_frequencies))])"
   ]
  },
  {
   "cell_type": "code",
   "execution_count": null,
   "id": "50c18e13",
   "metadata": {},
   "outputs": [],
   "source": [
    "t = np.arange(len(melody2))/sr\n",
    "plt.plot(t, melody2)\n",
    "plt.xlabel(\"Time (s)\")\n",
    "plt.title(\"Melody 2\")\n",
    "Audio(melody2, rate=sr)"
   ]
  },
  {
   "cell_type": "markdown",
   "id": "070de94f",
   "metadata": {},
   "source": [
    "*Questions*\n",
    "1. Do `melody1` and `melody2` look similar on the waveform display? Why?\n",
    "2. Do they sound similar? Why?\n",
    "\n",
    "Finally, let us design a third melody which is the same as `melody2` but shifted in time by 25 milliseconds."
   ]
  },
  {
   "cell_type": "code",
   "execution_count": null,
   "id": "2c92dde2",
   "metadata": {},
   "outputs": [],
   "source": [
    "melody3 = np.pad(melody2, (sr//40,0))[:(-sr//40)]\n",
    "\n",
    "t = np.arange(len(melody3))/sr\n",
    "plt.plot(t, melody3)\n",
    "plt.xlabel(\"Time (s)\")\n",
    "plt.title(\"Melody 3\")\n",
    "Audio(melody3, rate=sr)"
   ]
  },
  {
   "cell_type": "markdown",
   "id": "67448009",
   "metadata": {},
   "source": [
    "*Exercise*\n",
    "\n",
    "Write a function to evaluate the cosine distance between two vectors x and y of identical size."
   ]
  },
  {
   "cell_type": "code",
   "execution_count": null,
   "id": "9b5fb481",
   "metadata": {},
   "outputs": [],
   "source": [
    "def cosine_distance(x, y):\n",
    "    \"\"\"\n",
    "    Returns the cosine distance between two\n",
    "    vectors x and y of identical size:\n",
    "    \n",
    "    dist = 1 - <x|y> / (||x||_2 ||y||_2)\n",
    "    \"\"\"\n",
    "    # Consider using np.dot, np.linalg.norm\n",
    "    return dist"
   ]
  },
  {
   "cell_type": "markdown",
   "id": "4300d187",
   "metadata": {},
   "source": [
    "*Question*\n",
    "\n",
    "3. Without doing any computation, fill in the table below. Try imagining if the cosine distance between `melody1` and `melody2` will be qualitatively \"small\" or \"large\" depending on the representation domain. Same with the distance bwetween `melody2` and `melody3`.\n",
    "\n",
    "Reminder: `melody2` is in sync with `melody1` but has different carrier frequencies. `melody3` has the same carrier frequencies as `melody2` but it delayed by 25 milliseconds."
   ]
  },
  {
   "cell_type": "markdown",
   "id": "07f1b8f4",
   "metadata": {},
   "source": [
    "```\n",
    "| Representation                          | dist(melody1, melody2) | dist(melody2, melody3) |\n",
    "|-----------------------------------------|------------------------|------------------------|\n",
    "| waveform                                | large                  | ?????                  |\n",
    "| temporal envelope                       | small                  | ?????                  |\n",
    "| Fourier spectrum                        | ?????                  | ?????                  |\n",
    "| STFT spectrogram (window size = 100 ms) | ?????                  | ?????                  |\n",
    "```"
   ]
  },
  {
   "cell_type": "markdown",
   "id": "c1222c3f",
   "metadata": {},
   "source": [
    "Numerical application below."
   ]
  },
  {
   "cell_type": "code",
   "execution_count": null,
   "id": "7db772e2",
   "metadata": {},
   "outputs": [],
   "source": [
    "def envelope(x):\n",
    "    return np.abs(x + 1j * scipy.signal.hilbert(x))\n",
    "\n",
    "def spectrum(x):\n",
    "    return np.abs(np.fft.rfft(x))\n",
    "\n",
    "def spectrogram(x, sr, window=0.1):\n",
    "    return np.abs(librosa.stft(x, win_length=int(window*sr)))\n",
    "\n",
    "df = pd.DataFrame()\n",
    "df[\"Representation\"] = [\"waveform\", \"temporal envelope\",\n",
    "    \"Fourier spectrum\", \"STFT spectrogram (T=100 ms)\"]\n",
    "\n",
    "for (x, y, column) in [[melody1, melody2, \"1<->2\"], [melody2, melody3, \"2<->3\"]]:\n",
    "    wav_dist = cosine_distance(x, y)\n",
    "    env_dist = cosine_distance(envelope(x), envelope(y))\n",
    "    spectrum_dist = cosine_distance(spectrum(x), spectrum(y))\n",
    "    spectrogram_dist = cosine_distance(spectrogram(x, sr).ravel(), spectrogram(y, sr).ravel())\n",
    "    df[column] = [wav_dist, env_dist, spectrum_dist, spectrogram_dist]"
   ]
  },
  {
   "cell_type": "code",
   "execution_count": null,
   "id": "5c4e8a5a",
   "metadata": {},
   "outputs": [],
   "source": [
    "pd.set_option('display.float_format', lambda x: '%.3f' % x)\n",
    "df"
   ]
  },
  {
   "cell_type": "markdown",
   "id": "cb3f3459",
   "metadata": {},
   "source": [
    "Does the table above match your expectations?\n",
    "\n",
    "\n",
    "*Question*\n",
    "\n",
    "4. In what sense does the STFT constitute a tradeoff for pattern matching? What are its strengths and limitations?"
   ]
  },
  {
   "cell_type": "markdown",
   "id": "cc661b9d",
   "metadata": {},
   "source": [
    "**Part III. Invariance to frequency transposition**\n",
    "\n",
    "In this part, we will design a signal representation that is invariant to the choice of carrier frequency while being sensitive to the shape of the waveform: for example, triangular versus square."
   ]
  },
  {
   "cell_type": "code",
   "execution_count": null,
   "id": "4aead71b",
   "metadata": {},
   "outputs": [],
   "source": [
    "def sawtooth_wave(sr, duration, carrier_frequency):\n",
    "    \"\"\"Return a sawtooth wave.\n",
    "    \n",
    "    Parameters\n",
    "    ----------\n",
    "    sr: sample rate in Hertz\n",
    "    duration: duration in seconds\n",
    "    carrier_frequency: carrier frequency in seconds\n",
    "    \"\"\"\n",
    "    # Consider using: np.arange, signal.sawtooth\n",
    "    return x\n",
    "\n",
    "def square_wave(sr, duration, carrier_frequency):\n",
    "    \"\"\"Return a square wave.\n",
    "    \n",
    "    Parameters\n",
    "    ----------\n",
    "    sr: sample rate in Hertz\n",
    "    duration: duration in seconds\n",
    "    carrier_frequency: carrier frequency in seconds\n",
    "    \"\"\"\n",
    "    # Consider using: np.arange, signal.square\n",
    "    return x"
   ]
  },
  {
   "cell_type": "code",
   "execution_count": null,
   "id": "4e4fc3dd",
   "metadata": {},
   "outputs": [],
   "source": [
    "sr = 22050\n",
    "duration = 1.0\n",
    "decay_time = 0.1\n",
    "carrier_frequency = 10\n",
    "\n",
    "t = np.arange(0, duration, 1/sr)\n",
    "x_saw = triang_wave(sr, duration, carrier_frequency)\n",
    "x_squ = square_wave(sr, duration, carrier_frequency)\n",
    "\n",
    "fig, ax = plt.subplots(2, 1, sharex=True)\n",
    "ax[0].plot(t, x_saw)\n",
    "ax[0].set_title(\"Triangular wave\")\n",
    "ax[1].plot(t, x_squ)\n",
    "ax[1].set_title(\"Square wave\")\n",
    "plt.xlim(0, duration)\n",
    "plt.xlabel(\"Time (seconds)\")\n",
    "plt.tight_layout()"
   ]
  },
  {
   "cell_type": "code",
   "execution_count": null,
   "id": "3352dc5d",
   "metadata": {},
   "outputs": [],
   "source": [
    "sr = 16000\n",
    "duration = 1.0\n",
    "carrier_frequency = 400\n",
    "\n",
    "omega = np.arange(0, sr/2, 1/duration)\n",
    "\n",
    "x_tri = triang_wave(sr, duration, carrier_frequency)\n",
    "xhat_tri = np.abs(np.fft.rfft(x_tri)[:-1])\n",
    "x_squ = square_wave(sr, duration, carrier_frequency)\n",
    "xhat_squ = np.abs(np.fft.rfft(x_squ)[:-1])\n",
    "\n",
    "fig, ax = plt.subplots(2, 1, sharex=True)\n",
    "ax[0].plot(omega, xhat_tri)\n",
    "ax[0].set_title(\"Triangular wave\")\n",
    "ax[1].plot(omega, xhat_squ)\n",
    "ax[1].set_title(\"Square wave\")\n",
    "plt.xlim(0, sr/2)\n",
    "plt.xlabel(\"Frequency (Hz)\")\n",
    "plt.tight_layout()"
   ]
  },
  {
   "cell_type": "markdown",
   "id": "1938d6f3",
   "metadata": {},
   "source": [
    "*Questions*\n",
    "1. Compare the two waves in the time domain. What do they have in common?\n",
    "2. Which one is more regular? (in the sense of Hölder)\n",
    "3. Which one has faster decay in the Fourier domain?"
   ]
  },
  {
   "cell_type": "markdown",
   "id": "21fe12e9",
   "metadata": {},
   "source": [
    "Let us now synthesize three waves:\n",
    "* x1_squ, a square wave with fundamental frequency f1 = 400 Hz\n",
    "* x2_squ, a square wave with fundamental frequency f2 = 440 Hz\n",
    "* x2_tri, a triangle wave with fundamental frequency f2"
   ]
  },
  {
   "cell_type": "code",
   "execution_count": null,
   "id": "266d79ff",
   "metadata": {},
   "outputs": [],
   "source": [
    "sr = 16000\n",
    "duration = 1.0\n",
    "f1 = 400\n",
    "f2 = 440\n",
    "\n",
    "t = np.arange(0, duration, 1/sr)\n",
    "x1_squ = square_wave(sr, duration, f1)\n",
    "x2_squ = square_wave(sr, duration, f2)\n",
    "x2_tri = triang_wave(sr, duration, f2)\n",
    "\n",
    "fig, ax = plt.subplots(3, 1, sharex=True)\n",
    "ax[0].plot(t, x1_squ)\n",
    "ax[0].set_title(\"Square wave (f = {} Hz)\".format(f1))\n",
    "ax[1].plot(t, x2_squ)\n",
    "ax[1].set_title(\"Square wave (f = {} Hz)\".format(f2))\n",
    "ax[2].plot(t, x2_tri)\n",
    "ax[2].set_title(\"Triangular wave (f = {} Hz)\".format(f2))\n",
    "plt.xlim(0, 20 / min(f1, f2))\n",
    "plt.xlabel(\"Time (seconds)\")\n",
    "plt.tight_layout()"
   ]
  },
  {
   "cell_type": "markdown",
   "id": "813ccf64",
   "metadata": {},
   "source": [
    "*Question*\n",
    "\n",
    "4. Without doing any computation, fill in the table below. Try imagining if the cosine distance between `x1_tri` and `x2_tri` will be qualitatively \"small\" or \"large\" depending on the representation domain. Same with the distance bwetween `x2_tri` and `x2_squ`.\n",
    "\n",
    "Reminder: `x2_tri` has the wave shape as `x1_tri` but a different fundamental frequency. `x2_squ` has the same fundamental frequency as `x2_tri` but a different wave shape."
   ]
  },
  {
   "cell_type": "markdown",
   "id": "a31f1259",
   "metadata": {},
   "source": [
    "```\n",
    "| Representation                          | dist(x1_tri, x2_tri)   | dist(x2_tri, x2_squ)   |\n",
    "|-----------------------------------------|------------------------|------------------------|\n",
    "| waveform                                | ?????                  | ?????                  |\n",
    "| Fourier spectrum                        | ?????                  | ?????                  |\n",
    "| STFT spectrogram (window size = 100 ms) | ?????                  | ?????                  |\n",
    "```"
   ]
  },
  {
   "cell_type": "code",
   "execution_count": null,
   "id": "863f022d",
   "metadata": {},
   "outputs": [],
   "source": [
    "df = pd.DataFrame()\n",
    "df[\"Representation\"] = [\"waveform\", \"Fourier spectrum\", \"STFT spectrogram (T=100 ms)\"]\n",
    "\n",
    "for (x, y, column) in [[x1_squ, x2_squ, \"x1_squ<->x2_squ\"], [x2_squ, x2_tri, \"x2_squ<->x2_tri\"]]:\n",
    "    wav_dist = cosine_distance(x, y)\n",
    "    spectrum_dist = cosine_distance(spectrum(x), spectrum(y))\n",
    "    spectrogram_dist = cosine_distance(spectrogram(x, sr).ravel(), spectrogram(y, sr).ravel())\n",
    "    df[column] = [wav_dist, spectrum_dist, spectrogram_dist]\n",
    "    \n",
    "df"
   ]
  },
  {
   "cell_type": "markdown",
   "id": "724ab3c2",
   "metadata": {},
   "source": [
    "Does the table above match your expectations?\n",
    "\n",
    "\n",
    "*Question*\n",
    "\n",
    "5. Is the STFT spectrogram invariant to time shifts? If so, up to what amount?\n",
    "6. Is the STFT spectrogram invariant to musical pitch shifts? If so, up to what amount?"
   ]
  },
  {
   "cell_type": "markdown",
   "id": "083071ce",
   "metadata": {},
   "source": [
    "**IV. Octave scalogram of its average**\n",
    "\n",
    "To improve invariance to frequency transposition, we will map STFT frequencies to octave-wide bands."
   ]
  },
  {
   "cell_type": "markdown",
   "id": "c7807291",
   "metadata": {},
   "source": [
    "*Question*\n",
    "\n",
    "1. Consider the function below. What does it do? What are its arguments and return value?"
   ]
  },
  {
   "cell_type": "code",
   "execution_count": null,
   "id": "9d77984c",
   "metadata": {},
   "outputs": [],
   "source": [
    "def octave_filterbank(fmin, sr, n_fft):\n",
    "    n_octaves = int(np.log2(sr/fmin) - 2)\n",
    "    freqs = [fmin * (2**n) for n in range(2+n_octaves)]\n",
    "    passbands = np.zeros((len(freqs)-2, int(1 + n_fft // 2)))\n",
    "    fftfreqs = librosa.filters.fft_frequencies(sr=sr, n_fft=n_fft)\n",
    "    fdiff = np.diff(freqs)\n",
    "    ramps = np.subtract.outer(freqs, fftfreqs)\n",
    "    \n",
    "    for i in range(len(freqs)-2):\n",
    "        # lower and upper slopes for all bins\n",
    "        lower = -ramps[i, :] / fdiff[i]\n",
    "        upper = ramps[i + 2, :] / fdiff[i + 1]\n",
    "\n",
    "        # .. then intersect them with each other and zero\n",
    "        passbands[i, :] = np.maximum(0, np.minimum(lower, upper))\n",
    "        \n",
    "    return passbands\n",
    "\n",
    "n_fft = 32\n",
    "fftfreqs = librosa.filters.fft_frequencies(sr=sr, n_fft=n_fft)\n",
    "fbank = octave_filterbank(fmin=250, sr=sr, n_fft=n_fft)\n",
    "plt.plot(fftfreqs, fbank.T)\n",
    "plt.xlabel(\"Frequency (Hz)\")\n",
    "plt.title(\"Octave filterbank\")"
   ]
  },
  {
   "cell_type": "markdown",
   "id": "aa8a5b5f",
   "metadata": {},
   "source": [
    "*Exercise*\n",
    "\n",
    "Write a function `scalogram` which computes the STFT of a signal `x` over a very short window (2 milliseconds by default) and maps its frequencies to octave-wide bands starting at `fmin`."
   ]
  },
  {
   "cell_type": "code",
   "execution_count": null,
   "id": "6e473e8c",
   "metadata": {},
   "outputs": [],
   "source": [
    "def scalogram(x, fmin, sr, window=0.002):\n",
    "    \"\"\"Compute the octave scalogram of a time-domain signal x,\n",
    "    defined as:\n",
    "    \n",
    "    sc(k, t) = \\sum_{omega} passbands(k, omega) |X|(omega, t)\n",
    "    \n",
    "    where\n",
    "    * X is the short-term Fourier transform of the input\n",
    "    * |.| denotes complex modulus\n",
    "    * k is the octave index\n",
    "    * passbands(k, omega) is the passband of the k'th filter at frequency omega\n",
    "    \n",
    "    Parameters\n",
    "    ----------\n",
    "    x: input signal\n",
    "    fmin: minimum frequency of the octave filterbank in Hertz\n",
    "    sr: sample rate in Hetz\n",
    "    window: window length in seconds\n",
    "    \"\"\"\n",
    "    n_fft = int(window*sr)\n",
    "    passbands = octave_filterbank(fmin, sr=sr, n_fft=n_fft)\n",
    "    # Consider using: librosa.stft, np.abs, np.dot\n",
    "    return sc"
   ]
  },
  {
   "cell_type": "markdown",
   "id": "86448698",
   "metadata": {},
   "source": [
    "Now let's compute the scalograms of a sine wave, a triangle wave, and a square wave."
   ]
  },
  {
   "cell_type": "code",
   "execution_count": null,
   "id": "2c9582cd",
   "metadata": {},
   "outputs": [],
   "source": [
    "fmin = 250\n",
    "sr = 16000\n",
    "duration = 0.1\n",
    "f0 = 400\n",
    "window = 0.002\n",
    "\n",
    "t = np.arange(0, duration, 1/sr)\n",
    "x_sin = np.sin(2*np.pi*f0*t)\n",
    "x_tri = triang_wave(sr=sr, duration=duration, carrier_frequency=f0)\n",
    "x_squ = square_wave(sr=sr, duration=duration, carrier_frequency=f0)\n",
    "\n",
    "fig, ax = plt.subplots(figsize=(6, 6),\n",
    "    nrows=int(np.log2(sr/fmin)-2), ncols=3,\n",
    "    sharex=True, sharey=True)\n",
    "titles = [\"Sine\", \"Triangle\", \"Square\"]\n",
    "for i, x in enumerate([x_sin, x_tri, x_squ]):\n",
    "    ax[0, i].set_title(titles[i])\n",
    "    sc = scalogram(x / np.linalg.norm(x), fmin, sr)\n",
    "    n_fft = int(window*sr)\n",
    "    hop_length = n_fft//4\n",
    "    t_sc = librosa.times_like(sc, sr=sr, hop_length=hop_length, n_fft=n_fft)\n",
    "    for j in range(sc.shape[0]):\n",
    "        if i==0:\n",
    "            ax[-1-j, i].set_ylabel(\"f = {} Hz\".format(fmin * (2**j)))\n",
    "        ax[-1-j, i].plot(1000*t_sc, sc[j, :])\n",
    "    ax[j, i].set_xlabel(\"Time (milliseconds)\")\n",
    "    \n",
    "plt.xlim(0, 40)\n",
    "plt.tight_layout()"
   ]
  },
  {
   "cell_type": "markdown",
   "id": "b38b8731",
   "metadata": {},
   "source": [
    "*Questions*\n",
    "\n",
    "2. Comment the chart above. Which wave shape has more energy in the upper-frequency range? Why?\n",
    "3. For which frequencies and wave shapes do you notice large amplitude modulations? Why?\n",
    "4. What is the rate of amplitude modulations in the scalogram?"
   ]
  },
  {
   "cell_type": "markdown",
   "id": "65570978",
   "metadata": {},
   "source": [
    "*Exercise*\n",
    "\n",
    "Average the scalogram over the time dimension."
   ]
  },
  {
   "cell_type": "code",
   "execution_count": null,
   "id": "3068ad10",
   "metadata": {},
   "outputs": [],
   "source": [
    "def averaged_scalogram(x, sr):\n",
    "    \"\"\"Compute the time-averaged octave scalogram of a\n",
    "    time-domain signal y, defined as:\n",
    "    \n",
    "    avg_sc(k) = \\sum_{t} \\sum_{omega} passbands(k, omega) |X|(omega, t)\n",
    "    \n",
    "    where\n",
    "    * Y is the short-term Fourier transform of the input\n",
    "    * |.| denotes complex modulus\n",
    "    * k is the octave index\n",
    "    * passbands(k, omega) is the passband of the k'th filter at frequency omega\n",
    "    \n",
    "    The minimum frequency is set to 250 Hz and the window size to 2 milliseconds.\n",
    "    \n",
    "    Parameters\n",
    "    ----------\n",
    "    y: input signal\n",
    "    sr: sample rate in Hetz\n",
    "    \"\"\"\n",
    "    fmin = 250\n",
    "    window = 0.002\n",
    "    sc = scalogram(y, fmin, sr, window=0.002)\n",
    "    # Consider using np.sum"
   ]
  },
  {
   "cell_type": "code",
   "execution_count": null,
   "id": "dcb31bf8",
   "metadata": {},
   "outputs": [],
   "source": [
    "df = pd.DataFrame()\n",
    "df[\"Representation\"] = [\n",
    "    \"waveform\", \"Fourier spectrum\", \"STFT spectrogram (T=100 ms)\",\n",
    "    \"Averaged scalogram\",\n",
    "]\n",
    "\n",
    "for (x, y, column) in [[x1_squ, x2_squ, \"x1_squ<->x2_squ\"], [x2_squ, x2_tri, \"x2_squ<->x2_tri\"]]:\n",
    "    wav_dist = cosine_distance(x, y)\n",
    "    spectrum_dist = cosine_distance(spectrum(x), spectrum(y))\n",
    "    spectrogram_dist = cosine_distance(spectrogram(x, sr).ravel(), spectrogram(y, sr).ravel())\n",
    "    avg_scal_dist = cosine_distance(\n",
    "        averaged_scalogram(x, sr), averaged_scalogram(y, sr))\n",
    "    \n",
    "    df[column] = [wav_dist, spectrum_dist, spectrogram_dist, avg_scal_dist]\n",
    "\n",
    "df"
   ]
  },
  {
   "cell_type": "markdown",
   "id": "5eddde61",
   "metadata": {},
   "source": [
    "*Questions*\n",
    "\n",
    "5. Is the averaged scalogram invariant to time shifts? If so, up to what amount?\n",
    "6. Is the averaged scalogram invariant to musical pitch shifts? If so, up to what amount?\n",
    "7. Do you have an idea on how you could boost the second distance (x1_squ <-> x2_squ) while keeping the first distance (x2_squ <-> x2_tri) at a low value?"
   ]
  }
 ],
 "metadata": {
  "kernelspec": {
   "display_name": "Python 3 (ipykernel)",
   "language": "python",
   "name": "python3"
  },
  "language_info": {
   "codemirror_mode": {
    "name": "ipython",
    "version": 3
   },
   "file_extension": ".py",
   "mimetype": "text/x-python",
   "name": "python",
   "nbconvert_exporter": "python",
   "pygments_lexer": "ipython3",
   "version": "3.10.0"
  }
 },
 "nbformat": 4,
 "nbformat_minor": 5
}
